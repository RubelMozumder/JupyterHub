{
 "cells": [
  {
   "cell_type": "code",
   "execution_count": 1,
   "id": "medieval-harvard",
   "metadata": {},
   "outputs": [
    {
     "data": {
      "text/plain": [
       "'default'"
      ]
     },
     "execution_count": 1,
     "metadata": {},
     "output_type": "execute_result"
    }
   ],
   "source": [
    "from aiida import load_profile\n",
    "aiida_profile = load_profile()\n",
    "aiida_profile.name"
   ]
  },
  {
   "cell_type": "code",
   "execution_count": 2,
   "id": "known-integration",
   "metadata": {},
   "outputs": [],
   "source": [
    "## Loading the some require packages and module\n",
    "from aiida_kkr.workflows import (combine_imps_wc, kkr_flex_wc,\n",
    "                                kkr_imp_wc, kkr_imp_sub_wc\n",
    "                                )\n",
    "\n",
    "from aiida.orm import (Group, load_group, load_node, Dict,\n",
    "                      )\n",
    "from aiida.engine import submit"
   ]
  },
  {
   "cell_type": "code",
   "execution_count": 3,
   "id": "developed-forestry",
   "metadata": {},
   "outputs": [],
   "source": [
    "builder = combine_imps_wc.get_builder()"
   ]
  },
  {
   "cell_type": "code",
   "execution_count": 4,
   "id": "public-right",
   "metadata": {},
   "outputs": [],
   "source": [
    "group_64 = load_group(64)\n",
    "## first node of group-64 is for kkr_imp_wc process\n",
    "# is being used for the host_gf or kkr_flex files\n",
    "imp_wc_with_gf = group_64.nodes[0]\n",
    "imp1_wc = group_64.nodes[2]\n",
    "imp2_wc = group_64.nodes[2]\n",
    "\n",
    "gf_host_remote = imp_wc_with_gf.outputs.remote_data_gf\n",
    "host_gf_wc = imp_wc_with_gf.get_outgoing(node_class=kkr_flex_wc).all()[0].node\n",
    "\n",
    "\n",
    "impurity1_output_node = imp1_wc.outputs.workflow_info\n",
    "impurity2_output_node = imp2_wc.outputs.workflow_info\n",
    "offset_imp2 = {'index':1}"
   ]
  },
  {
   "cell_type": "code",
   "execution_count": 10,
   "id": "adjacent-princess",
   "metadata": {},
   "outputs": [],
   "source": [
    "scf_node = imp1_wc.get_outgoing(node_class=kkr_imp_sub_wc).all()[0].node\n",
    "scf ={'kkrimp':scf_node.inputs.kkrimp, \n",
    "      'options':scf_node.inputs.options,\n",
    "      'wf_parameters':scf_node.inputs.wf_parameters}\n",
    "\n",
    "host_gf = {'kkr':host_gf_wc.inputs.kkr,\n",
    "          'options': host_gf_wc.inputs.options,\n",
    "          'params_kkr_overwrite':host_gf_wc.inputs.wf_parameters}"
   ]
  },
  {
   "cell_type": "code",
   "execution_count": 19,
   "id": "ecological-drunk",
   "metadata": {},
   "outputs": [
    {
     "data": {
      "text/plain": [
       "<WorkChainNode: uuid: 5c3c6763-3796-4447-b095-22b516442089 (pk: 10390) (aiida.workflows:kkr.gf_writeout)>"
      ]
     },
     "execution_count": 19,
     "metadata": {},
     "output_type": "execute_result"
    }
   ],
   "source": [
    "host_gf_wc"
   ]
  },
  {
   "cell_type": "code",
   "execution_count": 16,
   "id": "former-eleven",
   "metadata": {},
   "outputs": [
    {
     "data": {
      "text/plain": [
       "<WorkChainNode: uuid: 6ef52bbc-e884-4d75-bc45-0163a5c81661 (pk: 10725) (aiida.workflows:kkr.imp)>"
      ]
     },
     "execution_count": 16,
     "metadata": {},
     "output_type": "execute_result"
    }
   ],
   "source": [
    "imp1_wc"
   ]
  },
  {
   "cell_type": "code",
   "execution_count": 8,
   "id": "collaborative-butterfly",
   "metadata": {},
   "outputs": [],
   "source": [
    "builder.impurity1_output_node = impurity1_output_node\n",
    "builder.impurity2_output_node = impurity2_output_node\n",
    "builder.offset_imp2 = Dict(dict=offset_imp2)\n",
    "# builder.metadata.description = \n",
    "# builder.scf.kkrimp = \n",
    "# builder.\n",
    "builder.scf = scf \n",
    "\n",
    "\n",
    "builder.host_gf = host_gf\n",
    "# builder.gf_host_remote = gf_host_remote\n",
    "builder.metadata.label = str(imp1_wc.label+ ':' +imp2_wc.label)"
   ]
  },
  {
   "cell_type": "code",
   "execution_count": 13,
   "id": "micro-prime",
   "metadata": {},
   "outputs": [],
   "source": [
    "# combined_imp_submission = submit(builder)"
   ]
  },
  {
   "cell_type": "code",
   "execution_count": null,
   "id": "backed-swing",
   "metadata": {},
   "outputs": [],
   "source": []
  },
  {
   "cell_type": "code",
   "execution_count": null,
   "id": "divided-writer",
   "metadata": {},
   "outputs": [],
   "source": []
  },
  {
   "cell_type": "code",
   "execution_count": null,
   "id": "bibliographic-civilian",
   "metadata": {},
   "outputs": [],
   "source": []
  },
  {
   "cell_type": "code",
   "execution_count": null,
   "id": "informal-cylinder",
   "metadata": {},
   "outputs": [],
   "source": []
  },
  {
   "cell_type": "code",
   "execution_count": null,
   "id": "australian-breach",
   "metadata": {},
   "outputs": [],
   "source": []
  }
 ],
 "metadata": {
  "kernelspec": {
   "display_name": "AiiDA",
   "language": "python",
   "name": "aiida"
  },
  "language_info": {
   "codemirror_mode": {
    "name": "ipython",
    "version": 3
   },
   "file_extension": ".py",
   "mimetype": "text/x-python",
   "name": "python",
   "nbconvert_exporter": "python",
   "pygments_lexer": "ipython3",
   "version": "3.8.5"
  }
 },
 "nbformat": 4,
 "nbformat_minor": 5
}
