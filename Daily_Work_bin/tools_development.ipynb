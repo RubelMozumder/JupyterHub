{
 "cells": [
  {
   "cell_type": "code",
   "execution_count": null,
   "id": "mental-medline",
   "metadata": {},
   "outputs": [],
   "source": [
    "# Structure data from voronoi calc or kkr_startpot_wc"
   ]
  },
  {
   "cell_type": "code",
   "execution_count": 2,
   "id": "ambient-establishment",
   "metadata": {},
   "outputs": [],
   "source": [
    "def Struc_from_voro(voro_node, host_structure=True, imp_structure=False):\n",
    "    # Packages and module\n",
    "    from aiida.common.exceptions import InputValidationError\n",
    "    from aiida_kkr.calculations import VoronoiCalculation\n",
    "    from aiida_kkr.workflows import kkr_startpot_wc \n",
    "    from aiida.orm import StructureData, Node\n",
    "    \"\"\"\n",
    "    Structure from the voronoi calcjob or voro_startpot_wc\n",
    "    voro_node: (voro_calc)\n",
    "    \"\"\"\n",
    "    # To check voro_node in node or ID\n",
    "    if not isinstance(voro_node, Node):\n",
    "        try:\n",
    "            voro_node = load_node(voro_node)\n",
    "        except IndentationError:\n",
    "            print('No such pk or uuid: {} is present in the database.'format(voro_node))\n",
    "            \n",
    "    host_struc, imp_host_struc = None, None\n",
    "    \n",
    "    # For voronoi calcjob\n",
    "    if (voro_node.process_class==VoronoiCalculation) :\n",
    "        ## Degug here\n",
    "        print('This Voronoicalculation')\n",
    "        struc = voro_node.inputs.structure\n",
    "        # Check for is it from ancector wc or created there\n",
    "        # For example the struc from sub kkr_startpot_wc in kkr_imp_wc is created there so \n",
    "        # no inconing_node is available \n",
    "        \n",
    "        if struc.get_incoming().first() == []\n",
    "            imp_host_struc = struc\n",
    "    # For kkr_startpot_wc  \n",
    "        \n",
    "    "
   ]
  },
  {
   "cell_type": "code",
   "execution_count": null,
   "id": "interstate-conjunction",
   "metadata": {},
   "outputs": [],
   "source": []
  },
  {
   "cell_type": "code",
   "execution_count": null,
   "id": "prescribed-optimum",
   "metadata": {},
   "outputs": [],
   "source": []
  },
  {
   "cell_type": "code",
   "execution_count": null,
   "id": "dominant-glucose",
   "metadata": {},
   "outputs": [],
   "source": []
  },
  {
   "cell_type": "code",
   "execution_count": null,
   "id": "level-central",
   "metadata": {},
   "outputs": [],
   "source": []
  },
  {
   "cell_type": "code",
   "execution_count": null,
   "id": "lasting-premises",
   "metadata": {},
   "outputs": [],
   "source": []
  },
  {
   "cell_type": "code",
   "execution_count": null,
   "id": "irish-salad",
   "metadata": {},
   "outputs": [],
   "source": []
  },
  {
   "cell_type": "code",
   "execution_count": null,
   "id": "global-selling",
   "metadata": {},
   "outputs": [],
   "source": []
  },
  {
   "cell_type": "code",
   "execution_count": null,
   "id": "large-donna",
   "metadata": {},
   "outputs": [],
   "source": []
  },
  {
   "cell_type": "code",
   "execution_count": null,
   "id": "conservative-level",
   "metadata": {},
   "outputs": [],
   "source": []
  },
  {
   "cell_type": "code",
   "execution_count": null,
   "id": "nearby-lying",
   "metadata": {},
   "outputs": [],
   "source": []
  },
  {
   "cell_type": "code",
   "execution_count": null,
   "id": "distant-piece",
   "metadata": {},
   "outputs": [],
   "source": []
  },
  {
   "cell_type": "code",
   "execution_count": null,
   "id": "floppy-digest",
   "metadata": {},
   "outputs": [],
   "source": []
  },
  {
   "cell_type": "code",
   "execution_count": null,
   "id": "diverse-count",
   "metadata": {},
   "outputs": [],
   "source": []
  },
  {
   "cell_type": "code",
   "execution_count": null,
   "id": "graduate-forestry",
   "metadata": {},
   "outputs": [],
   "source": []
  },
  {
   "cell_type": "code",
   "execution_count": null,
   "id": "ruled-delivery",
   "metadata": {},
   "outputs": [],
   "source": []
  },
  {
   "cell_type": "code",
   "execution_count": null,
   "id": "middle-isaac",
   "metadata": {},
   "outputs": [],
   "source": []
  },
  {
   "cell_type": "code",
   "execution_count": 52,
   "id": "moderate-saver",
   "metadata": {},
   "outputs": [],
   "source": [
    "\n"
   ]
  },
  {
   "cell_type": "code",
   "execution_count": null,
   "id": "dressed-great",
   "metadata": {},
   "outputs": [],
   "source": []
  },
  {
   "cell_type": "code",
   "execution_count": null,
   "id": "double-encounter",
   "metadata": {},
   "outputs": [],
   "source": []
  },
  {
   "cell_type": "code",
   "execution_count": null,
   "id": "pacific-seattle",
   "metadata": {},
   "outputs": [],
   "source": []
  }
 ],
 "metadata": {
  "kernelspec": {
   "display_name": "AiiDA",
   "language": "python",
   "name": "aiida"
  },
  "language_info": {
   "codemirror_mode": {
    "name": "ipython",
    "version": 3
   },
   "file_extension": ".py",
   "mimetype": "text/x-python",
   "name": "python",
   "nbconvert_exporter": "python",
   "pygments_lexer": "ipython3",
   "version": "3.8.5"
  }
 },
 "nbformat": 4,
 "nbformat_minor": 5
}
