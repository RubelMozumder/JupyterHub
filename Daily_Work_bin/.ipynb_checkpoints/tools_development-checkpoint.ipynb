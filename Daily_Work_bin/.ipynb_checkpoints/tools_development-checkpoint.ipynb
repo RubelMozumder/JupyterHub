{
 "cells": [
  {
   "cell_type": "code",
   "execution_count": 2,
   "id": "constitutional-sheet",
   "metadata": {},
   "outputs": [
    {
     "name": "stdout",
     "output_type": "stream",
     "text": [
      "aiida_qs_mozumder_0077f85362e7bb995525ed5597a1b24e\n",
      "default_mozumder_0077f85362e7bb995525ed5597a1b24e\n"
     ]
    }
   ],
   "source": [
    "li = []\n",
    "li.append({'x':1})\n",
    "    #load aiida environment and connect to database\n",
    "from aiida import load_profile\n",
    "profile = load_profile()\n",
    "\n",
    "# load classes and functions\n",
    "from aiida.orm import  *#(CifData, Code, Dict, load_node, users, load_group,\n",
    "                      #Group)\n",
    "from aiida.engine import submit\n",
    "from aiida_kkr.tools import kkrparams, plot_kkr\n",
    "\n",
    "from aiida.engine import workfunction\n",
    "Fe_Bi2Te3_wc = load_node('efcd5b2a-b9dd-46f6-9a04-7085d0aef87c')\n",
    "host_gf = Fe_Bi2Te3_wc.outputs.remote_data_gf\n",
    "imp_dict = Fe_Bi2Te3_wc.inputs.impurity_info.get_dict()\n",
    "\n",
    "imp_Z_list = [*range(21,31, 1)] + [*range(39,49, 1)]\n",
    "ilayers= [3,4]\n",
    "imp_dict\n",
    "print(profile.database_username)\n",
    "print(profile.database_name)\n"
   ]
  },
  {
   "cell_type": "code",
   "execution_count": null,
   "id": "caring-milton",
   "metadata": {},
   "outputs": [],
   "source": [
    "##### This is the edited part and my be final part\n",
    "\n",
    "## Previous successful kkr_imp_wc process\n",
    "\n",
    "from aiida.engine import workfunction\n",
    "Fe_Bi2Te3_wc = load_node(12236)\n",
    "host_gf = Fe_Bi2Te3_wc.outputs.remote_data_gf\n",
    "imp_info_old = Fe_Bi2Te3_wc.inputs.impurity_info.get_dict()\n",
    "# @workfunction\n",
    "def submition_bunch_wc(parent_wc, builder_option, imp_num_each_step=None, imp_Z_list=None, \n",
    "                       ilayers=[],label=None,description=None, imp_setup_dict_list=None,\n",
    "                       group_label= None, group_description=None,\n",
    "                       ):\n",
    "    import time as t\n",
    "    from aiida.common.constants import elements as elmt\n",
    "    from aiida.orm import (CifData, Code, Dict, load_node,load_group, StructureData,\n",
    "                          Group)\n",
    "\n",
    "    \"\"\"\n",
    "params:\n",
    "    imp_dict(dict)\n",
    "\n",
    "    \"\"\"\n",
    "    imp_dict = parent_wc.inputs.impurity_info.get_dict()\n",
    "    host_gf = parent_wc.outputs.remote_data_gf\n",
    "    is_imp_dict_available = False\n",
    "    ## create group and store it\n",
    "    try :\n",
    "        existed_group= load_group(label=str(group_label))\n",
    "        print('The given Group exists in DB.  So new successfull Nodes'\n",
    "              + 'will be added with the group. Group pk {}'.format(existed_group.pk))\n",
    "        created_group = existed_group\n",
    "    except ImportError:\n",
    "        if(group_label is None):\n",
    "            group_label='Restarted_wc_from_uuid_{}'.format(parent_wc.uuid)\n",
    "        if group_description is None:\n",
    "            group_description='The parent wc impurity info {}'.format(imp_dict)\n",
    "        created_group=Group(label=group_label, description=group_description)\n",
    "        created_group.store()\n",
    "    if imp_setup_dict_list==None:\n",
    "        print(\"No impurity setup is provided. The impurity setup will be created as follows \\n\\\n",
    "              Combination among all the atoms in the imp_Z_list consisting imp_num_each_step\\n\\\n",
    "              atom in each group. Each group will be set in the ilayers position. A \\n\\\n",
    "              combination among the ilayers element will be consider, each group will \\n\\\n",
    "              have the same length as numbe of atoms in each atom group\" )\n",
    "    \n",
    "        if imp_num_each_step == 1:\n",
    "        ## To create all the possible imp_settings     \n",
    "            all_possible_dict = {} ## All the posssible_dict combination\n",
    "            all_succeful_dict = {} ## To collect all the successfull dict\n",
    "            all_imp_remaider = {} ## The leftover dict without sucessfull dict\n",
    "\n",
    "            ## order the dict\n",
    "            dict_order = 0\n",
    "            for Z in imp_Z_list[:] :\n",
    "                    for i_layer in ilayers[:]:\n",
    "                        dict_order += 1\n",
    "                        imp_dict['Zimp'] = Z\n",
    "#                         imp_dict['ilayer_center'] = i_layer\n",
    "                        copy_imp_dict = imp_dict.copy()\n",
    "                        all_possible_dict[dict_order] = copy_imp_dict\n",
    "\n",
    "\n",
    "            all_imp_remaider = all_possible_dict.copy()\n",
    "            is_imp_dict_available = True\n",
    "            \n",
    "    elif isinstance(imp_setup_dict_list, dict):\n",
    "        all_possible_dict = imp_setup_dict_list ## All the posssible_dict combination\n",
    "        all_succeful_dict = {} ## To collect all the successfull dict\n",
    "        all_imp_remaider = {} ## The leftover dict without sucessfull dict\n",
    "        all_imp_remaider = all_possible_dict.copy()\n",
    "        is_imp_dict_available = True\n",
    "        dict_order = len(imp_setup_dict_list)\n",
    "        \n",
    "    else :\n",
    "        is_imp_dict_available = False\n",
    "        return 'not possible to run'\n",
    "    ##  some pre assumed or pre known values \n",
    "    ####-------------------------\n",
    "    # Change the workflow parameter here for higher\n",
    "    kkr_imp_wc_dict = parent_wc.inputs.wf_parameters.get_dict()\n",
    "    kkr_imp_wc_dict['nsteps'] = 300\n",
    "    kkr_imp_wc_dict['convergence_criterion'] = 1e-06\n",
    "    kkr_imp_wc_dict['retrieve_kkrflex'] = False\n",
    "    \n",
    "    ####-------------------------\n",
    "    if is_imp_dict_available :\n",
    "        \n",
    "        max_wc_submition = 8\n",
    "        stop_here = False\n",
    "        bin_success_info = {}\n",
    "        bin_= {}   ## eddit it as submitted imp info\n",
    "        ## wc number info\n",
    "        builder_iter = 0 ## for tracking the submitted wc\n",
    "        finished_iter = 0 ## tracking the finished wc\n",
    "        total_wc = dict_order ## Total number of wc to be submitted\n",
    "\n",
    "        if max_wc_submition > total_wc:\n",
    "            max_wc_submition = total_wc\n",
    "        ## To run all the calcualtion according to the all_possible_dict\n",
    "        for order, imp_settings in all_possible_dict.items():\n",
    "            ## stop_here stop all the sumbmition function if exit_status != 0\n",
    "            if stop_here==True:\n",
    "                break\n",
    "                print('At least work chain is finished with exit_code not 0, and stop here break 000')\n",
    "\n",
    "    ####---------------------------------------------------\n",
    "            zatom = imp_settings['Zimp']\n",
    "            imp_symbol = elmt[zatom]['symbol']\n",
    "            label_name = imp_symbol + ':Bi2Te3'\n",
    "            print(label_name)\n",
    "\n",
    "        \n",
    "            \n",
    "            new_imp_dict = imp_settings.copy()\n",
    "            ## step for sumitting the one job\n",
    "            builder = parent_wc.get_builder_restart()\n",
    "            builder.pop('remote_data_host')\n",
    "            builder.remote_data_gf = host_gf\n",
    "            builder.wf_parameters = Dict(dict=kkr_imp_wc_dict)\n",
    "            builder.impurity_info = Dict(dict=new_imp_dict)\n",
    "            builder.metadata.label = str(label_name)\n",
    "            builder.options = builder_option\n",
    "            builder_iter += 1\n",
    "            submition = submit(builder)\n",
    "            t.sleep(30)\n",
    "            ## Here the bin ony takes upto eight elements of group\n",
    "            bin_element = {'pk': submition.pk,\n",
    "                                  'uuid': submition.uuid,\n",
    "                                  'exit_status': None,\n",
    "                                  'track_num': order, 'imp_info' :new_imp_dict}\n",
    "            bin_[order] = bin_element\n",
    "            ## The keep the activated wc equal or below the max_wc_submition\n",
    "            ## that is the maximum work-chain to be in running \n",
    "            while ((builder_iter-finished_iter >= max_wc_submition) or\n",
    "                (total_wc == builder_iter) or (stop_here==True) ):\n",
    "\n",
    "    #             reduce_iter = 0\n",
    "                t.sleep(120)\n",
    "#                 print('sleeping for 120 second starting of the while loop')\n",
    "                bin_success_wc = []\n",
    "                bin_failure_wc = []\n",
    "    \n",
    "                if (len(bin_) == 0) :\n",
    "                    ## Break the while loop here\n",
    "                    break\n",
    "                    \n",
    "                for calc_order, sub_info in bin_.items():\n",
    "                    wc_pk = bin_[calc_order]['pk']\n",
    "                    calc_node = load_node(wc_pk)\n",
    "                    if calc_node.is_finished == True:\n",
    "                        if calc_node.exit_status == 0:\n",
    "                            print('one clalc is finished')\n",
    "                            bin_[calc_order]['exit_status']=0\n",
    "\n",
    "                            ## To add the dict as a successfull dict\n",
    "                            copy_to_success = all_possible_dict[calc_order].copy()\n",
    "                            all_succeful_dict[calc_order] = (copy_to_success)\n",
    "\n",
    "                            ## To delete the dict from the all_imp_remainder as it is the copy of all_possible_dict\n",
    "                            all_imp_remaider.pop(calc_order)\n",
    "\n",
    "                            ## To collect the successfull calc info such as pk, uuid\n",
    "                            copy_sucess_info = bin_[calc_order].copy()\n",
    "    ### change bin_successfl to sucessful_wc info\n",
    "                            bin_success_info[calc_order] = copy_sucess_info\n",
    "                            ## To reduce the dict from the bin_ as it is boundary that can be submit wc at one time\n",
    "                            bin_success_wc.append(calc_order)\n",
    "                            finished_iter += 1\n",
    "                        else :\n",
    "                            bin_failure_wc.append(calc_order)\n",
    "                            stop_here = True\n",
    "                            print('---exit_status is not 0. So, one inconistency in wc {} is found'.format(wc_pk))\n",
    "#                             break ## for for loop break\n",
    "#                     else:\n",
    "#                         print('not even one calc in finished')\n",
    "\n",
    "                ## To delete the element from bin_ as this wc are finished \n",
    "                ## and create the new space for others\n",
    "                if (bin_success_wc != []):\n",
    "                    for i in bin_success_wc[:]:\n",
    "                        bin_.pop(i)\n",
    "                if (bin_failure_wc != []):\n",
    "                    for i in bin_failure_wc[:]:\n",
    "                        bin_.pop(i)\n",
    "                \n",
    "                if (builder_iter-finished_iter) >= max_wc_submition or (total_wc == builder_iter) :\n",
    "                    t.sleep(120)\n",
    "                else : \n",
    "                    print('at least one of the group is finished')\n",
    "\n",
    "    ####----------------------------------------------\n",
    "\n",
    "    return all_possible_dict, all_succeful_dict, all_imp_remaider, bin_success_info\n",
    "    # pk: 3264\n",
    "    # builder.metadata.description = 'imp'\n",
    "    # submit(builder)  # uuid: 07d65588-470a-47e0-ba19-0c1ccdb824d1\n",
    "    # pk: 3264\n",
    "imp_num_each_step = 1\n",
    "i_layers = [4]\n",
    "d_elmt_zatom = [*range(21,31, 1)] + [*range(39,49, 1)]\n",
    "builder_option = Dict(dict=metadata_option_1)\n",
    "\n",
    "imp_39 = {11:{'Rcut': 4.4, 'Zimp': 39, 'ilayer_center': 3}}\n",
    "\n",
    "imp_setup_dict_list = {11: {'Rcut': 4.4, 'Zimp': 39, 'ilayer_center': 4},\n",
    "                       12: {'Rcut': 4.4, 'Zimp': 40, 'ilayer_center': 4}}\n",
    "\n",
    "\n",
    "# all_possible_dict, all_succeful_dict, all_imp_remaider, bin_success_info  = submition_bunch_wc(parent_wc= Fe_Bi2Te3_wc, builder_option= builder_option, \n",
    "#                                                                                               imp_num_each_step= 1, imp_Z_list= d_elmt_zatom,\n",
    "#                                                                                               ilayers= i_layers, group_label='3d_4d_dopants_Bi2Te3_ilayer4')\n",
    "# finished_bin\n",
    "\n",
    "# all_possible_dict, all_succeful_dict, all_imp_remaider, bin_success_info  = submition_bunch_wc(Fe_Bi2Te3_wc, builder_option, imp_setup_dict_list=imp_setup_dict_list,\n",
    "#                                                                                               group_label='3d_4d_dopants_Bi2Te3_ilayer4')\n"
   ]
  },
  {
   "cell_type": "code",
   "execution_count": null,
   "id": "fallen-recording",
   "metadata": {},
   "outputs": [],
   "source": [
    "### for finding the diference between two list of same length\n",
    "def diff(list1, list2):\n",
    "    derived_list = []\n",
    "    for i in range(len(list1)):\n",
    "        kk = list1[i] -list2[i]\n",
    "        derived_list.append(kk)\n",
    "    return derived_list\n",
    "xx = diff(list(node_234.sites[3].position) , list(node_234.sites[4].position))\n"
   ]
  },
  {
   "cell_type": "code",
   "execution_count": 3,
   "id": "earlier-auckland",
   "metadata": {},
   "outputs": [
    {
     "name": "stdout",
     "output_type": "stream",
     "text": [
      "[7688, 7755, 7784, 7843]\n",
      "[7707, 7761, 7820, 7865, 7925, 7950, 7982]\n",
      "[7727, 7768, 7806, 7861, 7921, 7946, 7972]\n",
      "node class : process.calculation.calcjob.CalcJobNode. and pk 7790\n",
      "[7891, 7898, 7916, 7941, 7966, 8010, 8105]\n",
      "[8039, 8093, 8135, 8169, 8230, 8262, 8318]\n",
      "[8059, 8087, 8151, 8198, 8241, 8275, 8324]\n",
      "[8079, 8099, 8121, 8161, 8236, 8251]\n",
      "[8194, 8206, 8224, 8257, 8305, 8348, 8432]\n",
      "[9022, 9056, 9072, 9157, 9172, 9184, 9196]\n"
     ]
    }
   ],
   "source": [
    "## building up a function to check the convergency of the kkr_imp_wc\n",
    "\n",
    "def group_convergency_check(group, calc_class=None, processes_class=None):\n",
    "    \"\"\"\n",
    "    Params :\n",
    "    param group : pk or uuid\n",
    "    \n",
    "    param calc_class : Class for which convergency will be check\n",
    "    \"\"\"\n",
    "    import matplotlib.pyplot as plt\n",
    "    \n",
    "    fig = plt.figure()\n",
    "    axes_1 = fig.add_axes([0.1, 0.1, 0.9, 0.9])\n",
    "    \n",
    "#     axes_1.\n",
    "    from aiida.orm import load_group, WorkChainNode\n",
    "    from aiida_kkr.calculations import KkrCalculation\n",
    "    group_nodes = list(load_group(group).nodes)\n",
    "    for wc in group_nodes:\n",
    "        if isinstance(wc, WorkChainNode):\n",
    "            decendents_pk = ([i.pk for i in wc.called_descendants\n",
    "                              if (isinstance(i, CalcJobNode))])\n",
    "            print(decendents_pk)\n",
    "        else:\n",
    "            print('node class : {} and pk {}'.format(wc.class_node_type, wc.pk))\n",
    "            continue\n",
    "        ## Fere add the ploting function\n",
    "        from aiida.orm import load_node\n",
    "        %matplotlib inline\n",
    "        i =decendents_pk[-1]\n",
    "        loaded_node = load_node(i)\n",
    "        loaded_dict = loaded_node.outputs.output_parameters.get_dict()\n",
    "        plot_parameters = loaded_dict['convergence_group']['rms_all_iterations']\n",
    "        axes_1.plot(plot_parameters, label='xx')\n",
    "\n",
    "    axes_1.legend(loc=0)\n",
    "    axes_1\n",
    "        \n",
    "# convergence_ploting([9789]) \n",
    "group_convergency_check(58)"
   ]
  },
  {
   "cell_type": "code",
   "execution_count": 4,
   "id": "hungry-brick",
   "metadata": {},
   "outputs": [
    {
     "name": "stdout",
     "output_type": "stream",
     "text": [
      "pk, uuid: 9712 173285ce-a992-40c6-8e45-31dbffc12ed7\n",
      "type: <class 'aiida.orm.nodes.process.workflow.workchain.WorkChainNode'>\n",
      "label: Fe:Bi2Te3\n",
      "description: d-block imp on the host Bi2Te3 repalceing one Bi\n",
      "process type: aiida.workflows:kkr.imp\n",
      "state: ProcessState.FINISHED\n",
      "\n",
      "inputs:\n",
      "[<Dict: uuid: 21108814-1f71-47f8-84c4-d27d2e01e7b7 (pk: 9709)>,\n",
      " <Code: Remote code 'voro' on claix18_init, pk: 204, uuid: 7879eb8d-2bc4-4f50-ae3c-701e92b2537b>,\n",
      " <Code: Remote code 'kkr' on claix18_init, pk: 206, uuid: 77705e42-72da-4e0a-b546-5bc7804b9a3b>,\n",
      " <Code: Remote code 'kkrflex' on claix18_init, pk: 2135, uuid: b4363ad0-9d70-43d6-bb53-c4f6e05f0b08>,\n",
      " <Dict: uuid: eb02a872-35e8-4864-bf18-cd5f7572e01c (pk: 9710)>,\n",
      " <RemoteData: uuid: 9fd31b7f-a1ab-4bfc-8dc6-af1cd7edb0d7 (pk: 3153)>,\n",
      " <Dict: uuid: 7134513a-4571-496b-a6bb-4252dc1c3370 (pk: 9711)>]\n",
      "\n",
      "outputs:\n",
      "[<WorkChainNode: uuid: 9eb7c3b9-0967-4ca7-947c-a8ac6b0a62d4 (pk: 9717) (aiida.workflows:kkr.gf_writeout)>,\n",
      " <CalcFunctionNode: uuid: f225569a-782b-4bc7-89ea-2d3b41ddea4f (pk: 9730) (aiida_kkr.tools.common_workfunctions.update_params_wf)>,\n",
      " <CalcFunctionNode: uuid: df74e695-42ac-45df-b075-afafc929ae18 (pk: 9733) (aiida_kkr.tools.common_workfunctions.update_params_wf)>,\n",
      " <CalcFunctionNode: uuid: 2a7b394b-0922-420b-8983-13dcad92bd3c (pk: 9735) (aiida_kkr.workflows.kkr_imp.change_struc_imp_aux_wf)>,\n",
      " <WorkChainNode: uuid: 28cfeaa9-3dc4-4b9d-a541-b387133d5d8e (pk: 9738) (aiida.workflows:kkr.startpot)>,\n",
      " <CalcFunctionNode: uuid: de04b042-3f72-49bc-aebe-e257ddee2b54 (pk: 9757) (aiida_kkr.tools.common_workfunctions.neworder_potential_wf)>,\n",
      " <WorkChainNode: uuid: 771636b7-e171-4762-a380-09a760052cc2 (pk: 9759) (aiida.workflows:kkr.imp_sub)>,\n",
      " <CalcFunctionNode: uuid: 92495c63-55b1-4bb3-b067-6180cfa4297a (pk: 9799) (aiida_kkr.tools.save_output_nodes.create_out_dict_node)>,\n",
      " <Dict: uuid: 2fb75e11-aef8-4d3f-9eed-bdfe95f2d395 (pk: 9800)>,\n",
      " <Dict: uuid: c3d419ff-5276-4e64-bf8f-e223d4181794 (pk: 9792)>,\n",
      " <Dict: uuid: f7e42079-06aa-46a7-99cc-bd8e98b68e7b (pk: 9797)>,\n",
      " <SinglefileData: uuid: dc581143-cceb-4ddb-b1fb-6fbe42426e30 (pk: 9794)>,\n",
      " <RemoteData: uuid: 7bdda104-5935-4f8b-a508-2a20c9638645 (pk: 9723)>]\n",
      "\n",
      "exit status: 0 (None)\n",
      "\n"
     ]
    },
    {
     "data": {
      "image/png": "[encoded data removed]",
      "text/plain": [
       "<Figure size 432x288 with 2 Axes>"
      ]
     },
     "metadata": {
      "needs_background": "light"
     },
     "output_type": "display_data"
    },
    {
     "data": {
      "application/vnd.jupyter.widget-view+json": {
       "model_id": "b69516e51da7430fb34a806119d691e8",
       "version_major": 2,
       "version_minor": 0
      },
      "text/plain": [
       "GridspecLayout(children=(Renderer(camera=PerspectiveCamera(fov=10.0, position=(0.0, 0.0, 188.2423565917003), p…"
      ]
     },
     "metadata": {},
     "output_type": "display_data"
    },
    {
     "data": {
      "text/plain": [
       "<aiida_kkr.tools.plot_kkr.plot_kkr at 0x7f65bcb76250>"
      ]
     },
     "execution_count": 4,
     "metadata": {},
     "output_type": "execute_result"
    }
   ],
   "source": [
    "from aiida_kkr.tools import plot_kkr\n",
    "plot_kkr(9712)"
   ]
  },
  {
   "cell_type": "code",
   "execution_count": 12,
   "id": "animal-thailand",
   "metadata": {},
   "outputs": [
    {
     "data": {
      "image/png": "[encoded data removed]",
      "text/plain": [
       "<Figure size 432x288 with 1 Axes>"
      ]
     },
     "metadata": {
      "needs_background": "light"
     },
     "output_type": "display_data"
    }
   ],
   "source": [
    "import matplotlib.pyplot as plt\n",
    "\n",
    "fig = plt.figure()\n",
    "axes_1 = fig.add_axes([0.1, 0.1, 0.9, 0.9])\n",
    "\n",
    "axes_1.append()"
   ]
  },
  {
   "cell_type": "code",
   "execution_count": 17,
   "id": "demonstrated-parallel",
   "metadata": {},
   "outputs": [
    {
     "data": {
      "text/plain": [
       "{'main0': 2.9499,\n",
       " 'main2': 0.4256,\n",
       " 'main1a  ': 0.4629,\n",
       " 'main1b  ': 1.4926,\n",
       " 'main1c  ': 6.8654,\n",
       " 'main1a - tbref': 0.1103,\n",
       " 'Time in Iteration': 9.2809,\n",
       " 'main1b - calctref13': 0.0,\n",
       " 'main1c - serial part': 0.0048}"
      ]
     },
     "execution_count": 17,
     "metadata": {},
     "output_type": "execute_result"
    }
   ],
   "source": [
    "node_2dopants = load_node(9722)\n",
    "# node_3180.inputs.impurity_info.get_dict()\n",
    "node_2dopants.inputs.impurity_info.get_dict()\n",
    "node_2dopants.outputs.output_parameters.get_dict()['timings_group']\n",
    "# node_2dopants.inputs.wf_parameters.get_dict()"
   ]
  },
  {
   "cell_type": "code",
   "execution_count": 443,
   "id": "valuable-elizabeth",
   "metadata": {},
   "outputs": [],
   "source": [
    "node_9712 = load_node(9712)\n",
    "from aiida.orm import WorkChainNode, WorkflowNode\n",
    "class_9712 = node_9622.class_node_type\n",
    "wc_validation = isinstance(node_9712,WorkflowNode)\n",
    "wc_validation\n",
    "from aiida_kkr.calculations import KkrCalculation, KkrimpCalculation\n",
    "\n",
    "import aiida_kkr# class_9712\n",
    "loaded_group = load_group(58)\n",
    "node_from_group =  list(loaded_group.nodes)[0]#.class_node_type #isinstance(node_9712,WorkflowNode)\n",
    "# wc_validation = isinstance(node_from_group, WorkChainNode)\n",
    "# wc_validation\n",
    "node_from_group.called_descendants[1].pk\n",
    "decendents_pk = ([i.pk for i in node_9712.called_descendants \n",
    "                  if (isinstance(i, CalcJobNode))])\n",
    "from aiida_kkr.workflows import kkr_imp_wc\n",
    "# node_9712.proc\n",
    "load_node(decendents_pk[0]).outputs.output_parameters.get_dict()\n",
    "node_9722 = load_node(9742)\n",
    "xx=node_9722.process_class\n",
    "# isinstance(node_9722.process_class, KkrCalculation)\n",
    "# node_9722.outputs.output_parameters.get_dict()['convergence_group']"
   ]
  },
  {
   "cell_type": "code",
   "execution_count": 444,
   "id": "proper-duplicate",
   "metadata": {},
   "outputs": [
    {
     "data": {
      "text/plain": [
       "aiida_kkr.calculations.voro.VoronoiCalculation"
      ]
     },
     "execution_count": 444,
     "metadata": {},
     "output_type": "execute_result"
    }
   ],
   "source": [
    "xx"
   ]
  },
  {
   "cell_type": "code",
   "execution_count": 64,
   "id": "smooth-restoration",
   "metadata": {},
   "outputs": [],
   "source": [
    "all_possible_dict = {}\n",
    "# for Z in range(len(imp_Z_list)):\n",
    "#     for i_layer in range(len(ilayers)):\n",
    "\n",
    "dict_order = 0\n",
    "for Z in imp_Z_list[:2] :\n",
    "        for i_layer in ilayers[:]:\n",
    "            dict_order += 1\n",
    "            imp_dict['Zimp'] = Z\n",
    "            imp_dict['ilayer_center'] = i_layer\n",
    "            copy_imp_dict = imp_dict.copy()\n",
    "            all_possible_dict[dict_order] = copy_imp_dict\n"
   ]
  },
  {
   "cell_type": "code",
   "execution_count": 302,
   "id": "private-tumor",
   "metadata": {},
   "outputs": [
    {
     "name": "stdout",
     "output_type": "stream",
     "text": [
      "c1626804-5b71-450c-91c4-aa7197d85279\n"
     ]
    },
    {
     "data": {
      "text/plain": [
       "Structure Summary\n",
       "Lattice\n",
       "    abc : 10.472657559692419 10.472657559692419 10.472657559692438\n",
       " angles : 24.157680577616187 24.157680577616187 24.157680577615878\n",
       " volume : 169.06740315520517\n",
       "      A : 2.1914815820078 1.2652524812963 10.162337378619\n",
       "      B : -2.1914815820078 1.2652524812963 10.162337378619\n",
       "      C : -8.1101110346236e-17 -2.5305049625927 10.162337378619\n",
       "PeriodicSite: Te (0.0000, 0.0000, 0.0000) [0.0000, 0.0000, 0.0000]\n",
       "PeriodicSite: Te (-0.0000, 2.5305, 26.7879) [1.2120, 1.2120, 0.2120]\n",
       "PeriodicSite: Te (-0.0000, 0.0000, 24.0238) [0.7880, 0.7880, 0.7880]\n",
       "PeriodicSite: Bi (2.1915, 1.2653, 22.3571) [1.4000, 0.4000, 0.4000]\n",
       "PeriodicSite: Bi (2.1915, 1.2653, 28.4545) [1.6000, 0.6000, 0.6000]\n",
       "PeriodicSite:  (-0.0000, 2.5305, 23.3734) [1.1000, 1.1000, 0.1000]\n",
       "PeriodicSite:  (-0.0000, 0.0000, 27.4383) [0.9000, 0.9000, 0.9000]\n",
       "PeriodicSite:  (-0.0000, 2.5305, 29.4708) [1.3000, 1.3000, 0.3000]\n",
       "PeriodicSite:  (-0.0000, 0.0000, 21.3409) [0.7000, 0.7000, 0.7000]\n",
       "PeriodicSite:  (2.1915, 1.2653, 25.4058) [1.5000, 0.5000, 0.5000]"
      ]
     },
     "execution_count": 302,
     "metadata": {},
     "output_type": "execute_result"
    }
   ],
   "source": [
    "Structre_Bi2Te3 = load_node(234)\n",
    "print(Structre_Bi2Te3.uuid)\n",
    "Structre_Bi2Te3.get_pymatgen()"
   ]
  },
  {
   "cell_type": "code",
   "execution_count": 303,
   "id": "reflected-little",
   "metadata": {},
   "outputs": [
    {
     "data": {
      "text/plain": [
       "300"
      ]
     },
     "execution_count": 303,
     "metadata": {},
     "output_type": "execute_result"
    }
   ],
   "source": []
  },
  {
   "cell_type": "code",
   "execution_count": 18,
   "id": "accompanied-burst",
   "metadata": {},
   "outputs": [],
   "source": [
    "node_9712 = load_node(9712)\n",
    "node_9712.called_descendants#[-4].pk#process_label#class_node_typUntitled.ipynbe\n",
    "#.get_outgoing().all()\n",
    "# node_9712.\n",
    "node_9789 = load_node(9789)\n",
    "retrieved_list = node_9789.outputs.output_parameters.get_dict()#get_dict() #get_retrieve_list()\n",
    "# out_kkrimp = retrieved_list[0]\n",
    "# retrieved_list\n",
    "# node_9712.get_outgoing().all()"
   ]
  },
  {
   "cell_type": "code",
   "execution_count": 28,
   "id": "unable-exchange",
   "metadata": {},
   "outputs": [
    {
     "ename": "IntegrityError",
     "evalue": "duplicate key value violates unique constraint \"db_dbgroup_name_type_12656f33_uniq\"\nDETAIL:  Key (label, type_string)=(3d_4d_dopants_Bi2Te3_ilayer3, core) already exists.\n",
     "output_type": "error",
     "traceback": [
      "\u001b[0;31m---------------------------------------------------------------------------\u001b[0m",
      "\u001b[0;31mUniqueViolation\u001b[0m                           Traceback (most recent call last)",
      "\u001b[0;32m/usr/local/lib/python3.8/dist-packages/django/db/backends/utils.py\u001b[0m in \u001b[0;36m_execute\u001b[0;34m(self, sql, params, *ignored_wrapper_args)\u001b[0m\n\u001b[1;32m     83\u001b[0m             \u001b[0;32melse\u001b[0m\u001b[0;34m:\u001b[0m\u001b[0;34m\u001b[0m\u001b[0;34m\u001b[0m\u001b[0m\n\u001b[0;32m---> 84\u001b[0;31m                 \u001b[0;32mreturn\u001b[0m \u001b[0mself\u001b[0m\u001b[0;34m.\u001b[0m\u001b[0mcursor\u001b[0m\u001b[0;34m.\u001b[0m\u001b[0mexecute\u001b[0m\u001b[0;34m(\u001b[0m\u001b[0msql\u001b[0m\u001b[0;34m,\u001b[0m \u001b[0mparams\u001b[0m\u001b[0;34m)\u001b[0m\u001b[0;34m\u001b[0m\u001b[0;34m\u001b[0m\u001b[0m\n\u001b[0m\u001b[1;32m     85\u001b[0m \u001b[0;34m\u001b[0m\u001b[0m\n",
      "\u001b[0;31mUniqueViolation\u001b[0m: duplicate key value violates unique constraint \"db_dbgroup_name_type_12656f33_uniq\"\nDETAIL:  Key (label, type_string)=(3d_4d_dopants_Bi2Te3_ilayer3, core) already exists.\n",
      "\nThe above exception was the direct cause of the following exception:\n",
      "\u001b[0;31mIntegrityError\u001b[0m                            Traceback (most recent call last)",
      "\u001b[0;32m/opt/aiida-core/aiida/orm/implementation/django/utils.py\u001b[0m in \u001b[0;36msave\u001b[0;34m(self)\u001b[0m\n\u001b[1;32m     87\u001b[0m             \u001b[0;32mtry\u001b[0m\u001b[0;34m:\u001b[0m\u001b[0;34m\u001b[0m\u001b[0;34m\u001b[0m\u001b[0m\n\u001b[0;32m---> 88\u001b[0;31m                 \u001b[0mself\u001b[0m\u001b[0;34m.\u001b[0m\u001b[0m_model\u001b[0m\u001b[0;34m.\u001b[0m\u001b[0msave\u001b[0m\u001b[0;34m(\u001b[0m\u001b[0;34m)\u001b[0m\u001b[0;34m\u001b[0m\u001b[0;34m\u001b[0m\u001b[0m\n\u001b[0m\u001b[1;32m     89\u001b[0m             \u001b[0;32mexcept\u001b[0m \u001b[0mIntegrityError\u001b[0m \u001b[0;32mas\u001b[0m \u001b[0mexception\u001b[0m\u001b[0;34m:\u001b[0m\u001b[0;34m\u001b[0m\u001b[0;34m\u001b[0m\u001b[0m\n",
      "\u001b[0;32m/usr/local/lib/python3.8/dist-packages/django/db/models/base.py\u001b[0m in \u001b[0;36msave\u001b[0;34m(self, force_insert, force_update, using, update_fields)\u001b[0m\n\u001b[1;32m    742\u001b[0m \u001b[0;34m\u001b[0m\u001b[0m\n\u001b[0;32m--> 743\u001b[0;31m         self.save_base(using=using, force_insert=force_insert,\n\u001b[0m\u001b[1;32m    744\u001b[0m                        force_update=force_update, update_fields=update_fields)\n",
      "\u001b[0;32m/usr/local/lib/python3.8/dist-packages/django/db/models/base.py\u001b[0m in \u001b[0;36msave_base\u001b[0;34m(self, raw, force_insert, force_update, using, update_fields)\u001b[0m\n\u001b[1;32m    779\u001b[0m                 \u001b[0mparent_inserted\u001b[0m \u001b[0;34m=\u001b[0m \u001b[0mself\u001b[0m\u001b[0;34m.\u001b[0m\u001b[0m_save_parents\u001b[0m\u001b[0;34m(\u001b[0m\u001b[0mcls\u001b[0m\u001b[0;34m,\u001b[0m \u001b[0musing\u001b[0m\u001b[0;34m,\u001b[0m \u001b[0mupdate_fields\u001b[0m\u001b[0;34m)\u001b[0m\u001b[0;34m\u001b[0m\u001b[0;34m\u001b[0m\u001b[0m\n\u001b[0;32m--> 780\u001b[0;31m             updated = self._save_table(\n\u001b[0m\u001b[1;32m    781\u001b[0m                 \u001b[0mraw\u001b[0m\u001b[0;34m,\u001b[0m \u001b[0mcls\u001b[0m\u001b[0;34m,\u001b[0m \u001b[0mforce_insert\u001b[0m \u001b[0;32mor\u001b[0m \u001b[0mparent_inserted\u001b[0m\u001b[0;34m,\u001b[0m\u001b[0;34m\u001b[0m\u001b[0;34m\u001b[0m\u001b[0m\n",
      "\u001b[0;32m/usr/local/lib/python3.8/dist-packages/django/db/models/base.py\u001b[0m in \u001b[0;36m_save_table\u001b[0;34m(self, raw, cls, force_insert, force_update, using, update_fields)\u001b[0m\n\u001b[1;32m    872\u001b[0m             \u001b[0mupdate_pk\u001b[0m \u001b[0;34m=\u001b[0m \u001b[0mmeta\u001b[0m\u001b[0;34m.\u001b[0m\u001b[0mauto_field\u001b[0m \u001b[0;32mand\u001b[0m \u001b[0;32mnot\u001b[0m \u001b[0mpk_set\u001b[0m\u001b[0;34m\u001b[0m\u001b[0;34m\u001b[0m\u001b[0m\n\u001b[0;32m--> 873\u001b[0;31m             \u001b[0mresult\u001b[0m \u001b[0;34m=\u001b[0m \u001b[0mself\u001b[0m\u001b[0;34m.\u001b[0m\u001b[0m_do_insert\u001b[0m\u001b[0;34m(\u001b[0m\u001b[0mcls\u001b[0m\u001b[0;34m.\u001b[0m\u001b[0m_base_manager\u001b[0m\u001b[0;34m,\u001b[0m \u001b[0musing\u001b[0m\u001b[0;34m,\u001b[0m \u001b[0mfields\u001b[0m\u001b[0;34m,\u001b[0m \u001b[0mupdate_pk\u001b[0m\u001b[0;34m,\u001b[0m \u001b[0mraw\u001b[0m\u001b[0;34m)\u001b[0m\u001b[0;34m\u001b[0m\u001b[0;34m\u001b[0m\u001b[0m\n\u001b[0m\u001b[1;32m    874\u001b[0m             \u001b[0;32mif\u001b[0m \u001b[0mupdate_pk\u001b[0m\u001b[0;34m:\u001b[0m\u001b[0;34m\u001b[0m\u001b[0;34m\u001b[0m\u001b[0m\n",
      "\u001b[0;32m/usr/local/lib/python3.8/dist-packages/django/db/models/base.py\u001b[0m in \u001b[0;36m_do_insert\u001b[0;34m(self, manager, using, fields, update_pk, raw)\u001b[0m\n\u001b[1;32m    909\u001b[0m         \"\"\"\n\u001b[0;32m--> 910\u001b[0;31m         return manager._insert([self], fields=fields, return_id=update_pk,\n\u001b[0m\u001b[1;32m    911\u001b[0m                                using=using, raw=raw)\n",
      "\u001b[0;32m/usr/local/lib/python3.8/dist-packages/django/db/models/manager.py\u001b[0m in \u001b[0;36mmanager_method\u001b[0;34m(self, *args, **kwargs)\u001b[0m\n\u001b[1;32m     81\u001b[0m             \u001b[0;32mdef\u001b[0m \u001b[0mmanager_method\u001b[0m\u001b[0;34m(\u001b[0m\u001b[0mself\u001b[0m\u001b[0;34m,\u001b[0m \u001b[0;34m*\u001b[0m\u001b[0margs\u001b[0m\u001b[0;34m,\u001b[0m \u001b[0;34m**\u001b[0m\u001b[0mkwargs\u001b[0m\u001b[0;34m)\u001b[0m\u001b[0;34m:\u001b[0m\u001b[0;34m\u001b[0m\u001b[0;34m\u001b[0m\u001b[0m\n\u001b[0;32m---> 82\u001b[0;31m                 \u001b[0;32mreturn\u001b[0m \u001b[0mgetattr\u001b[0m\u001b[0;34m(\u001b[0m\u001b[0mself\u001b[0m\u001b[0;34m.\u001b[0m\u001b[0mget_queryset\u001b[0m\u001b[0;34m(\u001b[0m\u001b[0;34m)\u001b[0m\u001b[0;34m,\u001b[0m \u001b[0mname\u001b[0m\u001b[0;34m)\u001b[0m\u001b[0;34m(\u001b[0m\u001b[0;34m*\u001b[0m\u001b[0margs\u001b[0m\u001b[0;34m,\u001b[0m \u001b[0;34m**\u001b[0m\u001b[0mkwargs\u001b[0m\u001b[0;34m)\u001b[0m\u001b[0;34m\u001b[0m\u001b[0;34m\u001b[0m\u001b[0m\n\u001b[0m\u001b[1;32m     83\u001b[0m             \u001b[0mmanager_method\u001b[0m\u001b[0;34m.\u001b[0m\u001b[0m__name__\u001b[0m \u001b[0;34m=\u001b[0m \u001b[0mmethod\u001b[0m\u001b[0;34m.\u001b[0m\u001b[0m__name__\u001b[0m\u001b[0;34m\u001b[0m\u001b[0;34m\u001b[0m\u001b[0m\n",
      "\u001b[0;32m/usr/local/lib/python3.8/dist-packages/django/db/models/query.py\u001b[0m in \u001b[0;36m_insert\u001b[0;34m(self, objs, fields, return_id, raw, using, ignore_conflicts)\u001b[0m\n\u001b[1;32m   1185\u001b[0m         \u001b[0mquery\u001b[0m\u001b[0;34m.\u001b[0m\u001b[0minsert_values\u001b[0m\u001b[0;34m(\u001b[0m\u001b[0mfields\u001b[0m\u001b[0;34m,\u001b[0m \u001b[0mobjs\u001b[0m\u001b[0;34m,\u001b[0m \u001b[0mraw\u001b[0m\u001b[0;34m=\u001b[0m\u001b[0mraw\u001b[0m\u001b[0;34m)\u001b[0m\u001b[0;34m\u001b[0m\u001b[0;34m\u001b[0m\u001b[0m\n\u001b[0;32m-> 1186\u001b[0;31m         \u001b[0;32mreturn\u001b[0m \u001b[0mquery\u001b[0m\u001b[0;34m.\u001b[0m\u001b[0mget_compiler\u001b[0m\u001b[0;34m(\u001b[0m\u001b[0musing\u001b[0m\u001b[0;34m=\u001b[0m\u001b[0musing\u001b[0m\u001b[0;34m)\u001b[0m\u001b[0;34m.\u001b[0m\u001b[0mexecute_sql\u001b[0m\u001b[0;34m(\u001b[0m\u001b[0mreturn_id\u001b[0m\u001b[0;34m)\u001b[0m\u001b[0;34m\u001b[0m\u001b[0;34m\u001b[0m\u001b[0m\n\u001b[0m\u001b[1;32m   1187\u001b[0m     \u001b[0m_insert\u001b[0m\u001b[0;34m.\u001b[0m\u001b[0malters_data\u001b[0m \u001b[0;34m=\u001b[0m \u001b[0;32mTrue\u001b[0m\u001b[0;34m\u001b[0m\u001b[0;34m\u001b[0m\u001b[0m\n",
      "\u001b[0;32m/usr/local/lib/python3.8/dist-packages/django/db/models/sql/compiler.py\u001b[0m in \u001b[0;36mexecute_sql\u001b[0;34m(self, return_id)\u001b[0m\n\u001b[1;32m   1376\u001b[0m             \u001b[0;32mfor\u001b[0m \u001b[0msql\u001b[0m\u001b[0;34m,\u001b[0m \u001b[0mparams\u001b[0m \u001b[0;32min\u001b[0m \u001b[0mself\u001b[0m\u001b[0;34m.\u001b[0m\u001b[0mas_sql\u001b[0m\u001b[0;34m(\u001b[0m\u001b[0;34m)\u001b[0m\u001b[0;34m:\u001b[0m\u001b[0;34m\u001b[0m\u001b[0;34m\u001b[0m\u001b[0m\n\u001b[0;32m-> 1377\u001b[0;31m                 \u001b[0mcursor\u001b[0m\u001b[0;34m.\u001b[0m\u001b[0mexecute\u001b[0m\u001b[0;34m(\u001b[0m\u001b[0msql\u001b[0m\u001b[0;34m,\u001b[0m \u001b[0mparams\u001b[0m\u001b[0;34m)\u001b[0m\u001b[0;34m\u001b[0m\u001b[0;34m\u001b[0m\u001b[0m\n\u001b[0m\u001b[1;32m   1378\u001b[0m             \u001b[0;32mif\u001b[0m \u001b[0;32mnot\u001b[0m \u001b[0mreturn_id\u001b[0m\u001b[0;34m:\u001b[0m\u001b[0;34m\u001b[0m\u001b[0;34m\u001b[0m\u001b[0m\n",
      "\u001b[0;32m/usr/local/lib/python3.8/dist-packages/django/db/backends/utils.py\u001b[0m in \u001b[0;36mexecute\u001b[0;34m(self, sql, params)\u001b[0m\n\u001b[1;32m     66\u001b[0m     \u001b[0;32mdef\u001b[0m \u001b[0mexecute\u001b[0m\u001b[0;34m(\u001b[0m\u001b[0mself\u001b[0m\u001b[0;34m,\u001b[0m \u001b[0msql\u001b[0m\u001b[0;34m,\u001b[0m \u001b[0mparams\u001b[0m\u001b[0;34m=\u001b[0m\u001b[0;32mNone\u001b[0m\u001b[0;34m)\u001b[0m\u001b[0;34m:\u001b[0m\u001b[0;34m\u001b[0m\u001b[0;34m\u001b[0m\u001b[0m\n\u001b[0;32m---> 67\u001b[0;31m         \u001b[0;32mreturn\u001b[0m \u001b[0mself\u001b[0m\u001b[0;34m.\u001b[0m\u001b[0m_execute_with_wrappers\u001b[0m\u001b[0;34m(\u001b[0m\u001b[0msql\u001b[0m\u001b[0;34m,\u001b[0m \u001b[0mparams\u001b[0m\u001b[0;34m,\u001b[0m \u001b[0mmany\u001b[0m\u001b[0;34m=\u001b[0m\u001b[0;32mFalse\u001b[0m\u001b[0;34m,\u001b[0m \u001b[0mexecutor\u001b[0m\u001b[0;34m=\u001b[0m\u001b[0mself\u001b[0m\u001b[0;34m.\u001b[0m\u001b[0m_execute\u001b[0m\u001b[0;34m)\u001b[0m\u001b[0;34m\u001b[0m\u001b[0;34m\u001b[0m\u001b[0m\n\u001b[0m\u001b[1;32m     68\u001b[0m \u001b[0;34m\u001b[0m\u001b[0m\n",
      "\u001b[0;32m/usr/local/lib/python3.8/dist-packages/django/db/backends/utils.py\u001b[0m in \u001b[0;36m_execute_with_wrappers\u001b[0;34m(self, sql, params, many, executor)\u001b[0m\n\u001b[1;32m     75\u001b[0m             \u001b[0mexecutor\u001b[0m \u001b[0;34m=\u001b[0m \u001b[0mfunctools\u001b[0m\u001b[0;34m.\u001b[0m\u001b[0mpartial\u001b[0m\u001b[0;34m(\u001b[0m\u001b[0mwrapper\u001b[0m\u001b[0;34m,\u001b[0m \u001b[0mexecutor\u001b[0m\u001b[0;34m)\u001b[0m\u001b[0;34m\u001b[0m\u001b[0;34m\u001b[0m\u001b[0m\n\u001b[0;32m---> 76\u001b[0;31m         \u001b[0;32mreturn\u001b[0m \u001b[0mexecutor\u001b[0m\u001b[0;34m(\u001b[0m\u001b[0msql\u001b[0m\u001b[0;34m,\u001b[0m \u001b[0mparams\u001b[0m\u001b[0;34m,\u001b[0m \u001b[0mmany\u001b[0m\u001b[0;34m,\u001b[0m \u001b[0mcontext\u001b[0m\u001b[0;34m)\u001b[0m\u001b[0;34m\u001b[0m\u001b[0;34m\u001b[0m\u001b[0m\n\u001b[0m\u001b[1;32m     77\u001b[0m \u001b[0;34m\u001b[0m\u001b[0m\n",
      "\u001b[0;32m/usr/local/lib/python3.8/dist-packages/django/db/backends/utils.py\u001b[0m in \u001b[0;36m_execute\u001b[0;34m(self, sql, params, *ignored_wrapper_args)\u001b[0m\n\u001b[1;32m     83\u001b[0m             \u001b[0;32melse\u001b[0m\u001b[0;34m:\u001b[0m\u001b[0;34m\u001b[0m\u001b[0;34m\u001b[0m\u001b[0m\n\u001b[0;32m---> 84\u001b[0;31m                 \u001b[0;32mreturn\u001b[0m \u001b[0mself\u001b[0m\u001b[0;34m.\u001b[0m\u001b[0mcursor\u001b[0m\u001b[0;34m.\u001b[0m\u001b[0mexecute\u001b[0m\u001b[0;34m(\u001b[0m\u001b[0msql\u001b[0m\u001b[0;34m,\u001b[0m \u001b[0mparams\u001b[0m\u001b[0;34m)\u001b[0m\u001b[0;34m\u001b[0m\u001b[0;34m\u001b[0m\u001b[0m\n\u001b[0m\u001b[1;32m     85\u001b[0m \u001b[0;34m\u001b[0m\u001b[0m\n",
      "\u001b[0;32m/usr/local/lib/python3.8/dist-packages/django/db/utils.py\u001b[0m in \u001b[0;36m__exit__\u001b[0;34m(self, exc_type, exc_value, traceback)\u001b[0m\n\u001b[1;32m     88\u001b[0m                     \u001b[0mself\u001b[0m\u001b[0;34m.\u001b[0m\u001b[0mwrapper\u001b[0m\u001b[0;34m.\u001b[0m\u001b[0merrors_occurred\u001b[0m \u001b[0;34m=\u001b[0m \u001b[0;32mTrue\u001b[0m\u001b[0;34m\u001b[0m\u001b[0;34m\u001b[0m\u001b[0m\n\u001b[0;32m---> 89\u001b[0;31m                 \u001b[0;32mraise\u001b[0m \u001b[0mdj_exc_value\u001b[0m\u001b[0;34m.\u001b[0m\u001b[0mwith_traceback\u001b[0m\u001b[0;34m(\u001b[0m\u001b[0mtraceback\u001b[0m\u001b[0;34m)\u001b[0m \u001b[0;32mfrom\u001b[0m \u001b[0mexc_value\u001b[0m\u001b[0;34m\u001b[0m\u001b[0;34m\u001b[0m\u001b[0m\n\u001b[0m\u001b[1;32m     90\u001b[0m \u001b[0;34m\u001b[0m\u001b[0m\n",
      "\u001b[0;32m/usr/local/lib/python3.8/dist-packages/django/db/backends/utils.py\u001b[0m in \u001b[0;36m_execute\u001b[0;34m(self, sql, params, *ignored_wrapper_args)\u001b[0m\n\u001b[1;32m     83\u001b[0m             \u001b[0;32melse\u001b[0m\u001b[0;34m:\u001b[0m\u001b[0;34m\u001b[0m\u001b[0;34m\u001b[0m\u001b[0m\n\u001b[0;32m---> 84\u001b[0;31m                 \u001b[0;32mreturn\u001b[0m \u001b[0mself\u001b[0m\u001b[0;34m.\u001b[0m\u001b[0mcursor\u001b[0m\u001b[0;34m.\u001b[0m\u001b[0mexecute\u001b[0m\u001b[0;34m(\u001b[0m\u001b[0msql\u001b[0m\u001b[0;34m,\u001b[0m \u001b[0mparams\u001b[0m\u001b[0;34m)\u001b[0m\u001b[0;34m\u001b[0m\u001b[0;34m\u001b[0m\u001b[0m\n\u001b[0m\u001b[1;32m     85\u001b[0m \u001b[0;34m\u001b[0m\u001b[0m\n",
      "\u001b[0;31mIntegrityError\u001b[0m: duplicate key value violates unique constraint \"db_dbgroup_name_type_12656f33_uniq\"\nDETAIL:  Key (label, type_string)=(3d_4d_dopants_Bi2Te3_ilayer3, core) already exists.\n",
      "\nDuring handling of the above exception, another exception occurred:\n",
      "\u001b[0;31mIntegrityError\u001b[0m                            Traceback (most recent call last)",
      "\u001b[0;32m<ipython-input-28-782369b0b8d4>\u001b[0m in \u001b[0;36m<module>\u001b[0;34m\u001b[0m\n\u001b[1;32m      1\u001b[0m \u001b[0;32mfrom\u001b[0m \u001b[0maiida\u001b[0m\u001b[0;34m.\u001b[0m\u001b[0morm\u001b[0m \u001b[0;32mimport\u001b[0m \u001b[0mload_group\u001b[0m\u001b[0;34m,\u001b[0m \u001b[0mGroup\u001b[0m\u001b[0;34m,\u001b[0m \u001b[0mUser\u001b[0m\u001b[0;34m,\u001b[0m \u001b[0mload_node\u001b[0m\u001b[0;34m\u001b[0m\u001b[0;34m\u001b[0m\u001b[0m\n\u001b[1;32m      2\u001b[0m \u001b[0mnew_group\u001b[0m \u001b[0;34m=\u001b[0m \u001b[0mGroup\u001b[0m\u001b[0;34m(\u001b[0m\u001b[0mlabel\u001b[0m\u001b[0;34m=\u001b[0m\u001b[0;34m'3d_4d_dopants_Bi2Te3_ilayer3'\u001b[0m\u001b[0;34m,\u001b[0m \u001b[0mdescription\u001b[0m\u001b[0;34m=\u001b[0m\u001b[0;34m'Relacing the Bi at i-layer 3 by 3d elements'\u001b[0m \u001b[0;34m)\u001b[0m\u001b[0;34m\u001b[0m\u001b[0;34m\u001b[0m\u001b[0m\n\u001b[0;32m----> 3\u001b[0;31m \u001b[0mnew_group\u001b[0m\u001b[0;34m.\u001b[0m\u001b[0mstore\u001b[0m\u001b[0;34m(\u001b[0m\u001b[0;34m)\u001b[0m\u001b[0;34m\u001b[0m\u001b[0;34m\u001b[0m\u001b[0m\n\u001b[0m\u001b[1;32m      4\u001b[0m \u001b[0;34m\u001b[0m\u001b[0m\n\u001b[1;32m      5\u001b[0m \u001b[0;31m# Group.uuid\u001b[0m\u001b[0;34m\u001b[0m\u001b[0;34m\u001b[0m\u001b[0;34m\u001b[0m\u001b[0m\n",
      "\u001b[0;32m/opt/aiida-core/aiida/orm/groups.py\u001b[0m in \u001b[0;36mstore\u001b[0;34m(self)\u001b[0m\n\u001b[1;32m    176\u001b[0m             \u001b[0;32mraise\u001b[0m \u001b[0mexceptions\u001b[0m\u001b[0;34m.\u001b[0m\u001b[0mStoringNotAllowed\u001b[0m\u001b[0;34m(\u001b[0m\u001b[0;34m'`type_string` is `None` so the group cannot be stored.'\u001b[0m\u001b[0;34m)\u001b[0m\u001b[0;34m\u001b[0m\u001b[0;34m\u001b[0m\u001b[0m\n\u001b[1;32m    177\u001b[0m \u001b[0;34m\u001b[0m\u001b[0m\n\u001b[0;32m--> 178\u001b[0;31m         \u001b[0;32mreturn\u001b[0m \u001b[0msuper\u001b[0m\u001b[0;34m(\u001b[0m\u001b[0;34m)\u001b[0m\u001b[0;34m.\u001b[0m\u001b[0mstore\u001b[0m\u001b[0;34m(\u001b[0m\u001b[0;34m)\u001b[0m\u001b[0;34m\u001b[0m\u001b[0;34m\u001b[0m\u001b[0m\n\u001b[0m\u001b[1;32m    179\u001b[0m \u001b[0;34m\u001b[0m\u001b[0m\n\u001b[1;32m    180\u001b[0m     \u001b[0;34m@\u001b[0m\u001b[0mproperty\u001b[0m\u001b[0;34m\u001b[0m\u001b[0;34m\u001b[0m\u001b[0m\n",
      "\u001b[0;32m/opt/aiida-core/aiida/orm/entities.py\u001b[0m in \u001b[0;36mstore\u001b[0;34m(self)\u001b[0m\n\u001b[1;32m    274\u001b[0m     \u001b[0;32mdef\u001b[0m \u001b[0mstore\u001b[0m\u001b[0;34m(\u001b[0m\u001b[0mself\u001b[0m\u001b[0;34m)\u001b[0m\u001b[0;34m:\u001b[0m\u001b[0;34m\u001b[0m\u001b[0;34m\u001b[0m\u001b[0m\n\u001b[1;32m    275\u001b[0m         \u001b[0;34m\"\"\"Store the entity.\"\"\"\u001b[0m\u001b[0;34m\u001b[0m\u001b[0;34m\u001b[0m\u001b[0m\n\u001b[0;32m--> 276\u001b[0;31m         \u001b[0mself\u001b[0m\u001b[0;34m.\u001b[0m\u001b[0m_backend_entity\u001b[0m\u001b[0;34m.\u001b[0m\u001b[0mstore\u001b[0m\u001b[0;34m(\u001b[0m\u001b[0;34m)\u001b[0m\u001b[0;34m\u001b[0m\u001b[0;34m\u001b[0m\u001b[0m\n\u001b[0m\u001b[1;32m    277\u001b[0m         \u001b[0;32mreturn\u001b[0m \u001b[0mself\u001b[0m\u001b[0;34m\u001b[0m\u001b[0;34m\u001b[0m\u001b[0m\n\u001b[1;32m    278\u001b[0m \u001b[0;34m\u001b[0m\u001b[0m\n",
      "\u001b[0;32m/opt/aiida-core/aiida/orm/implementation/django/groups.py\u001b[0m in \u001b[0;36mstore\u001b[0;34m(self)\u001b[0m\n\u001b[1;32m     97\u001b[0m                     \u001b[0;31m# is not automatically propagated to us\u001b[0m\u001b[0;34m\u001b[0m\u001b[0;34m\u001b[0m\u001b[0;34m\u001b[0m\u001b[0m\n\u001b[1;32m     98\u001b[0m                     \u001b[0mself\u001b[0m\u001b[0;34m.\u001b[0m\u001b[0m_dbmodel\u001b[0m\u001b[0;34m.\u001b[0m\u001b[0muser\u001b[0m \u001b[0;34m=\u001b[0m \u001b[0mself\u001b[0m\u001b[0;34m.\u001b[0m\u001b[0muser\u001b[0m\u001b[0;34m.\u001b[0m\u001b[0mdbmodel\u001b[0m\u001b[0;34m\u001b[0m\u001b[0;34m\u001b[0m\u001b[0m\n\u001b[0;32m---> 99\u001b[0;31m                 \u001b[0mself\u001b[0m\u001b[0;34m.\u001b[0m\u001b[0m_dbmodel\u001b[0m\u001b[0;34m.\u001b[0m\u001b[0msave\u001b[0m\u001b[0;34m(\u001b[0m\u001b[0;34m)\u001b[0m\u001b[0;34m\u001b[0m\u001b[0;34m\u001b[0m\u001b[0m\n\u001b[0m\u001b[1;32m    100\u001b[0m \u001b[0;34m\u001b[0m\u001b[0m\n\u001b[1;32m    101\u001b[0m         \u001b[0;31m# To allow to do directly g = Group(...).store()\u001b[0m\u001b[0;34m\u001b[0m\u001b[0;34m\u001b[0m\u001b[0;34m\u001b[0m\u001b[0m\n",
      "\u001b[0;32m/opt/aiida-core/aiida/orm/implementation/django/utils.py\u001b[0m in \u001b[0;36msave\u001b[0;34m(self)\u001b[0m\n\u001b[1;32m     88\u001b[0m                 \u001b[0mself\u001b[0m\u001b[0;34m.\u001b[0m\u001b[0m_model\u001b[0m\u001b[0;34m.\u001b[0m\u001b[0msave\u001b[0m\u001b[0;34m(\u001b[0m\u001b[0;34m)\u001b[0m\u001b[0;34m\u001b[0m\u001b[0;34m\u001b[0m\u001b[0m\n\u001b[1;32m     89\u001b[0m             \u001b[0;32mexcept\u001b[0m \u001b[0mIntegrityError\u001b[0m \u001b[0;32mas\u001b[0m \u001b[0mexception\u001b[0m\u001b[0;34m:\u001b[0m\u001b[0;34m\u001b[0m\u001b[0;34m\u001b[0m\u001b[0m\n\u001b[0;32m---> 90\u001b[0;31m                 \u001b[0;32mraise\u001b[0m \u001b[0mexceptions\u001b[0m\u001b[0;34m.\u001b[0m\u001b[0mIntegrityError\u001b[0m\u001b[0;34m(\u001b[0m\u001b[0mstr\u001b[0m\u001b[0;34m(\u001b[0m\u001b[0mexception\u001b[0m\u001b[0;34m)\u001b[0m\u001b[0;34m)\u001b[0m\u001b[0;34m\u001b[0m\u001b[0;34m\u001b[0m\u001b[0m\n\u001b[0m\u001b[1;32m     91\u001b[0m \u001b[0;34m\u001b[0m\u001b[0m\n\u001b[1;32m     92\u001b[0m     \u001b[0;32mdef\u001b[0m \u001b[0m_is_mutable_model_field\u001b[0m\u001b[0;34m(\u001b[0m\u001b[0mself\u001b[0m\u001b[0;34m,\u001b[0m \u001b[0mfield\u001b[0m\u001b[0;34m)\u001b[0m\u001b[0;34m:\u001b[0m\u001b[0;34m\u001b[0m\u001b[0;34m\u001b[0m\u001b[0m\n",
      "\u001b[0;31mIntegrityError\u001b[0m: duplicate key value violates unique constraint \"db_dbgroup_name_type_12656f33_uniq\"\nDETAIL:  Key (label, type_string)=(3d_4d_dopants_Bi2Te3_ilayer3, core) already exists.\n"
     ]
    }
   ],
   "source": [
    "from aiida.orm import load_group, Group, User, load_node\n",
    "new_group = Group(label='3d_4d_dopants_Bi2Te3_ilayer3', description='Relacing the Bi at i-layer 3 by 3d elements' )\n",
    "new_group.store()\n",
    "\n",
    "# Group.uuid\n",
    "# group_58 = Group(63)\n",
    "# group_nodes = list(group_58.nodes)\n",
    "# group_nodes"
   ]
  },
  {
   "cell_type": "code",
   "execution_count": 337,
   "id": "injured-implementation",
   "metadata": {},
   "outputs": [
    {
     "data": {
      "text/plain": [
       "[<SinglefileData: uuid: 2e6916bf-6c94-47c0-a080-f90f65e811e7 (pk: 388)>,\n",
       " <Dict: uuid: d21ec624-7f53-4ef0-b6b2-f43d26c287cf (pk: 391)>,\n",
       " <CalcFunctionNode: uuid: bb994a0c-1c96-4090-8365-862c7a870b4b (pk: 380) (aiida_kkr.workflows.kkr_imp_sub.extract_imp_pot_sfd)>,\n",
       " <CalcFunctionNode: uuid: 0bbbd991-7753-488d-8aaa-280e2aa334c5 (pk: 374) (aiida_kkr.tools.common_workfunctions.kick_out_corestates_wf)>,\n",
       " <CalcFunctionNode: uuid: 06922361-adf5-4c88-8aaf-075e5a74f3ae (pk: 387) (aiida_kkr.workflows.kkr_imp_sub.extract_imp_pot_sfd)>,\n",
       " <CalcFunctionNode: uuid: 080601ce-3dcf-43e1-8bb4-8983010c2d6b (pk: 390) (aiida_kkr.tools.save_output_nodes.create_out_dict_node)>,\n",
       " <CalcJobNode: uuid: 367e7915-b16a-4424-8fb0-c6599730e66c (pk: 383) (aiida.calculations:kkr.kkrimp)>,\n",
       " <CalcJobNode: uuid: 16ab4679-37df-4ef0-b3e7-4f2775eb6b0c (pk: 376) (aiida.calculations:kkr.kkrimp)>]"
      ]
     },
     "execution_count": 337,
     "metadata": {},
     "output_type": "execute_result"
    }
   ],
   "source": [
    "## Loading the node 371\n",
    "node_371 = load_node(371)\n",
    "\n",
    "node_371.get_outgoing().all_nodes()"
   ]
  },
  {
   "cell_type": "code",
   "execution_count": 206,
   "id": "viral-psychology",
   "metadata": {},
   "outputs": [
    {
     "ename": "SyntaxError",
     "evalue": "invalid syntax (<ipython-input-206-7360921497ab>, line 188)",
     "output_type": "error",
     "traceback": [
      "\u001b[0;36m  File \u001b[0;32m\"<ipython-input-206-7360921497ab>\"\u001b[0;36m, line \u001b[0;32m188\u001b[0m\n\u001b[0;31m    imp_Z_list=d_elmt_zatom,ilayers= i_layers, )\u001b[0m\n\u001b[0m    ^\u001b[0m\n\u001b[0;31mSyntaxError\u001b[0m\u001b[0;31m:\u001b[0m invalid syntax\n"
     ]
    }
   ],
   "source": [
    "##### This is the edited part and my be final part\n",
    "\n",
    "## Prevget_outgoingful kkr_imp_wc process\n",
    "from aiida.engine import workfunction\n",
    "Fe_Bi2Te3_wc = load_node('efcd5b2a-b9dd-46f6-9a04-7085d0aef87c')\n",
    "host_gf = Fe_Bi2Te3_wc.outputs.remote_data_gf\n",
    "imp_info_old = Fe_Bi2Te3_wc.inputs.impurity_info.get_dict()\n",
    "# @workfunction\n",
    "def submition_bunch_wc(parent_wc, builder_option, imp_num_each_step=None, imp_Z_list=None, \n",
    "                       ilayers=[],label=None,description=None, imp_setup_dict_list=None,\n",
    "                       ):\n",
    "    import time as t\n",
    "    from aiida.common.constants import elements as elmt\n",
    "    from aiida.orm import CifData, Code, Dict, load_node, StructureData\n",
    "    \n",
    "\n",
    "    \"\"\"\n",
    "params:\n",
    "    imp_dict(dict)\n",
    "\n",
    "    \"\"\"\n",
    "    imp_dict = parent_wc.inputs.impurity_info.get_dict()\n",
    "    host_gf = parent_wc.outputs.remote_data_gf\n",
    "    is_imp_dict_available = False\n",
    "                \n",
    "    if imp_setup_dict_list==None:\n",
    "        print(\"No impurity setup is provided. The impurity setup will be created as follows \\n\\\n",
    "              Combination among all the atoms in the imp_Z_list consisting imp_num_each_step\\n\\\n",
    "              atom in each group. Each group will be set in the ilayers position. A \\n\\\n",
    "              combination among the ilayers element will be consider, each group will \\n\\\n",
    "              have the same length as numbe of atoms in each atom group\" )\n",
    "    \n",
    "        if imp_num_each_step == 1:\n",
    "        ## To create all the possible imp_settings     \n",
    "            all_possible_dict = {} ## All the posssible_dict combination\n",
    "            all_succeful_dict = {} ## To collect all the successfull dict\n",
    "            all_imp_remaider = {} ## The leftover dict without sucessfull dict\n",
    "            ## order the dict\n",
    "            dict_order = 0\n",
    "            for Z in imp_Z_list[:] :\n",
    "#                     for i_layer in ilayers[:]:\n",
    "                        dict_order += 1\n",
    "                        imp_dict['Zimp'] = [Z]*imp_num_each_step                        \n",
    "                        copy_imp_dict = imp_dict.copy()\n",
    "                        all_possible_dict[dict_order] = copy_imp_dict\n",
    "\n",
    "            all_imp_remaider = all_possible_dict.copy()\n",
    "            is_imp_dict_available = True\n",
    "            \n",
    "    elif isinstance(imp_setup_dict_list, dict):\n",
    "        all_possible_dict = imp_setup_dict_list ## All the posssible_dict combination\n",
    "        all_succeful_dict = {} ## To collect all the successfull dict\n",
    "        all_imp_remaider = {} ## The leftover dict without sucessfull dict\n",
    "        all_imp_remaider = all_possible_dict.copy()\n",
    "        is_imp_dict_available = True\n",
    "        dict_order = len(imp_setup_dict_list)\n",
    "        \n",
    "    else :\n",
    "        is_imp_dict_available = False\n",
    "        return 'not possible to run'\n",
    "    ##  some pre assumed or pre known values \n",
    "    ####-------------------------\n",
    "    # Change the workflow parameter here for higher\n",
    "    kkr_imp_wc_dict = parent_wc.inputs.wf_parameters.get_dict()\n",
    "    kkr_imp_wc_dict['nsteps'] = 300\n",
    "    kkr_imp_wc_dict['convergence_criterion'] = 1e-06\n",
    "    \n",
    "    ####-------------------------\n",
    "    if is_imp_dict_available :\n",
    "        \n",
    "        max_wc_submition = 2\n",
    "        stop_here = False\n",
    "        bin_success_info = {}\n",
    "        bin_= {}   ## eddit it as submitted imp info\n",
    "        ## wc number info\n",
    "        builder_iter = 0 ## for tracking the submitted wc\n",
    "        finished_iter = 0 ## tracking the finished wc\n",
    "        total_wc = dict_order ## Total number of wc to be submitted\n",
    "\n",
    "\n",
    "        ## To run all the calcualtion according to the all_possible_dict\n",
    "        for order, imp_settings in all_possible_dict.items():\n",
    "            ## stop_here stop all the sumbmition function if exit_status != 0\n",
    "            if stop_here==True:\n",
    "                break\n",
    "                print('At least work chain is finished with exit_code not 0, and stop here break 000')\n",
    "\n",
    "    ####---------------------------------------------------\n",
    "            zatom = imp_settings['Zimp']\n",
    "            imp_symbol = elmt[zatom]['symbol']\n",
    "            label_name = imp_symbol + ':Bi2Te3'\n",
    "            print(label_name)\n",
    "\n",
    "        \n",
    "            \n",
    "            new_imp_dict = imp_settings.copy()\n",
    "            ## step for sumitting the one job\n",
    "            builder = parent_wc.get_builder_restart()\n",
    "            builder.pop('remote_data_host')\n",
    "            builder.remote_data_gf = host_gf\n",
    "            builder.wf_parameters = Dict(dict=kkr_imp_wc_dict)\n",
    "            builder.impurity_info = Dict(dict=new_imp_dict)\n",
    "            builder.metadata.label = label_name\n",
    "            builder.options = builder_option\n",
    "            builder_iter += 1\n",
    "#             submition = submit(builder)\n",
    "            t.sleep(30)\n",
    "            ## Here the bin ony takes upto eight elements of group\n",
    "            bin_element = {'pk': submition.pk,\n",
    "                                  'uuid': submition.uuid,\n",
    "                                  'exit_status': None,\n",
    "                                  'track_num': order, 'imp_info' :new_imp_dict}\n",
    "            bin_[order] = bin_element\n",
    "            ## The keep the activated wc equal or below the max_wc_submition\n",
    "            ## that is the maximum work-chain to be in running \n",
    "            while ((builder_iter-finished_iter >= max_wc_submition) or\n",
    "                (total_wc == builder_iter) ):\n",
    "\n",
    "    #             reduce_iter = 0\n",
    "                t.sleep(120)\n",
    "                print('sleeping for 120 second starting of the while loop')\n",
    "                bin_pop_num = []\n",
    "                for calc_order, sub_info in bin_.items():\n",
    "\n",
    "                    calc_node = load_node(bin_[calc_order]['pk'])\n",
    "                    if calc_node.is_finished == True:\n",
    "                        if calc_node.exit_status == 0:\n",
    "                            print('one clalc is finished')\n",
    "                            bin_[calc_order]['exit_status']=0\n",
    "\n",
    "                            ## To add the dict as a successfull dict\n",
    "                            copy_to_success = all_possible_dict[calc_order].copy()\n",
    "                            all_succeful_dict[calc_order] = (copy_to_success)\n",
    "\n",
    "                            ## To delete the dict from the all_imp_remainder as it is the copy of all_possible_dict\n",
    "                            all_imp_remaider.pop(calc_order)\n",
    "\n",
    "                            ## To collect the successfull calc info such as pk, uuid\n",
    "                            copy_sucess_info = bin_[calc_order].copy()\n",
    "    ### change bin_successfl to sucessful_wc info\n",
    "                            bin_success_info[calc_order] = copy_sucess_info\n",
    "                            ## To reduce the dict from the bin_ as it is boundary that can be submit wc at one time\n",
    "                            bin_pop_num.append(calc_order)\n",
    "                            finished_iter += 1\n",
    "                        else :\n",
    "                            stop_here = True\n",
    "                            print('---exit_status is not 0 So, chain is brocken. break 111 ')\n",
    "                            break ## for for loop break\n",
    "                    else:\n",
    "                        print('not even one calc in finished')\n",
    "\n",
    "                ## To delete the element from bin_ as this wc are finished \n",
    "                ## and create the new space for others\n",
    "                if bin_pop_num != []:\n",
    "                    for i in bin_pop_num[:]:\n",
    "                        bin_.pop(i)\n",
    "                if stop_here == True or (finished_iter == total_wc):\n",
    "                    print('breaking the while loop. 222')\n",
    "                    break ## for while loop break\n",
    "                if (builder_iter-finished_iter) >= max_wc_submition or (total_wc == builder_iter) :\n",
    "                    t.sleep(120)\n",
    "                    print('sleeping for 120 second')\n",
    "                else : \n",
    "                    print('at least one of the group is finished')\n",
    "\n",
    "    ####----------------------------------------------\n",
    "\n",
    "        return all_possible_dict, all_succeful_dict, all_imp_remaider, bin_success_info\n",
    "    # pk: 3264\n",
    "    # builder.metadata.description = 'imp'\n",
    "    # submit(builder)  # uuid: 07d65588-470a-47e0-ba19-0c1ccdb824d1\n",
    "    # pk: 3264\n",
    "imp_num_each_step = 1\n",
    "i_layers = [4]\n",
    "d_elmt_zatom = [*range(21,31, 1)] + [*range(39,49, 1)]\n",
    "builder_option = Dict(dict=metadata_option_1)\n",
    "\n",
    "imp_39 = {11:{'Rcut': 4.4, 'Zimp': 39, 'ilayer_center': 3}}\n",
    "\n",
    "imp_setup_dict_list = {10: {'Rcut': 4.4, 'Zimp': 30, 'ilayer_center': 3}, \n",
    "12: {'Rcut': 4.4, 'Zimp': 40, 'ilayer_center': 3}, 13: {'Rcut': 4.4, 'Zimp': 41, 'ilayer_center': 3},\n",
    "14: {'Rcut': 4.4, 'Zimp': 42, 'ilayer_center': 3}, 15: {'Rcut': 4.4, 'Zimp': 43, 'ilayer_center': 3},\n",
    "16: {'Rcut': 4.4, 'Zimp': 44, 'ilayer_center': 3}, 17: {'Rcut': 4.4, 'Zimp': 45, 'ilayer_center': 3},\n",
    "18: {'Rcut': 4.4, 'Zimp': 46, 'ilayer_center': 3}, 19: {'Rcut': 4.4, 'Zimp': 47, 'ilayer_center': 3},\n",
    "20: {'Rcut': 4.4, 'Zimp': 48, 'ilayer_center': 3}}\n",
    "\n",
    "all_possible_dict, all_succeful_dict, all_imp_remaider, bin_success_info  = submition_bunch_wc(parent_wc= Fe_Bi2Te3_wc, builder_option= builder_option, imp_num_each_step=1\n",
    "                                                                                                  imp_Z_list=d_elmt_zatom,ilayers= i_layers, )\n",
    "# finished_bin\n",
    "\n",
    "# all_possible_dict, all_succeful_dict, all_imp_remaider, bin_success_info  = submition_bunch_wc(Fe_Bi2Te3_wc, builder_option, imp_setup_dict_list=imp_39)\n"
   ]
  },
  {
   "cell_type": "code",
   "execution_count": 161,
   "id": "ancient-wrestling",
   "metadata": {},
   "outputs": [
    {
     "ename": "TypeError",
     "evalue": "'<' not supported between instances of 'int' and 'list'",
     "output_type": "error",
     "traceback": [
      "\u001b[0;31m---------------------------------------------------------------------------\u001b[0m",
      "\u001b[0;31mTypeError\u001b[0m                                 Traceback (most recent call last)",
      "\u001b[0;32m<ipython-input-161-12abffb3051e>\u001b[0m in \u001b[0;36m<module>\u001b[0;34m\u001b[0m\n\u001b[1;32m      4\u001b[0m \u001b[0mdict_imp_ilayer\u001b[0m \u001b[0;34m=\u001b[0m \u001b[0;34m{\u001b[0m\u001b[0;34m}\u001b[0m\u001b[0;34m\u001b[0m\u001b[0;34m\u001b[0m\u001b[0m\n\u001b[1;32m      5\u001b[0m \u001b[0;34m\u001b[0m\u001b[0m\n\u001b[0;32m----> 6\u001b[0;31m \u001b[0;32mwhile\u001b[0m \u001b[0mimp_num\u001b[0m\u001b[0;34m<\u001b[0m\u001b[0mi_layer\u001b[0m\u001b[0;34m:\u001b[0m\u001b[0;34m\u001b[0m\u001b[0;34m\u001b[0m\u001b[0m\n\u001b[0m\u001b[1;32m      7\u001b[0m     \u001b[0;32mfor\u001b[0m \u001b[0mi\u001b[0m \u001b[0;32min\u001b[0m \u001b[0mrange\u001b[0m\u001b[0;34m(\u001b[0m\u001b[0mimp_num\u001b[0m\u001b[0;34m,\u001b[0m\u001b[0mi_layer_list\u001b[0m\u001b[0;34m+\u001b[0m\u001b[0;36m1\u001b[0m\u001b[0;34m,\u001b[0m\u001b[0;36m1\u001b[0m\u001b[0;34m)\u001b[0m\u001b[0;34m:\u001b[0m\u001b[0;34m\u001b[0m\u001b[0;34m\u001b[0m\u001b[0m\n\u001b[1;32m      8\u001b[0m         \u001b[0mdict_imp_ilayer\u001b[0m\u001b[0;34m[\u001b[0m\u001b[0mdict_order\u001b[0m\u001b[0;34m]\u001b[0m \u001b[0;34m=\u001b[0m \u001b[0mlist\u001b[0m\u001b[0;34m(\u001b[0m\u001b[0;34m*\u001b[0m\u001b[0mrange\u001b[0m\u001b[0;34m(\u001b[0m\u001b[0mi\u001b[0m\u001b[0;34m-\u001b[0m\u001b[0mimp_num\u001b[0m\u001b[0;34m,\u001b[0m \u001b[0mi\u001b[0m\u001b[0;34m-\u001b[0m\u001b[0;36m1\u001b[0m\u001b[0;34m)\u001b[0m\u001b[0;34m)\u001b[0m\u001b[0;34m\u001b[0m\u001b[0;34m\u001b[0m\u001b[0m\n",
      "\u001b[0;31mTypeError\u001b[0m: '<' not supported between instances of 'int' and 'list'"
     ]
    }
   ],
   "source": [
    "imp_num = 3\n",
    "i_layer_list = 10\n",
    "dict_order = 0\n",
    "dict_imp_ilayer = {}\n",
    "\n",
    "while imp_num<i_layer:\n",
    "    for i in range(imp_num,i_layer_list+1,1):\n",
    "        dict_imp_ilayer[dict_order] = list(*range(i-imp_num, i-1))\n",
    "        dict_order += 1\n",
    "    imp_num += 1\n",
    "    "
   ]
  },
  {
   "cell_type": "code",
   "execution_count": 205,
   "id": "disabled-fruit",
   "metadata": {},
   "outputs": [
    {
     "data": {
      "text/plain": [
       "[<CalcJobNode: uuid: f6b0a1a3-9a88-464d-8129-0668f39366d2 (pk: 3152) (aiida.calculations:kkr.kkr)>,\n",
       " <WorkFunctionNode: uuid: 0faa44ba-5839-4a59-b7b2-31fee44a9e62 (pk: 3159) (aiida_kkr.workflows.kkr_scf.create_scf_result_node)>,\n",
       " <WorkChainNode: uuid: 13a08a52-44ec-4916-8d68-9579bcde4810 (pk: 3105) (aiida.workflows:kkr.scf)>]"
      ]
     },
     "execution_count": 205,
     "metadata": {},
     "output_type": "execute_result"
    }
   ],
   "source": [
    "# node_9025 = load_node(9025)\n",
    "node_ = load_node('efcd5b2a-b9dd-46f6-9a04-7085d0aef87c')\n",
    "# node_9025.inputs.impurity_infoimpu.get_dict\n",
    "nodes = node_.inputs.remote_data_host.get_incoming().\n",
    "nodes"
   ]
  },
  {
   "cell_type": "code",
   "execution_count": 52,
   "id": "detected-palestinian",
   "metadata": {},
   "outputs": [],
   "source": [
    "all_possible_dict\n",
    "ll = [{'Rcut': 4.4, 'Zimp': 21, 'ilayer_center': 4},{'Rcut': 4.4, 'Zimp': 22, 'ilayer_center': 4},\n",
    "         {'Rcut': 4.4, 'Zimp': 23, 'ilayer_center': 4}, {'Rcut': 4.4, 'Zimp': 23, 'ilayer_center': 4}]"
   ]
  },
  {
   "cell_type": "code",
   "execution_count": null,
   "id": "pressed-nomination",
   "metadata": {},
   "outputs": [],
   "source": []
  },
  {
   "cell_type": "code",
   "execution_count": null,
   "id": "unsigned-story",
   "metadata": {},
   "outputs": [],
   "source": []
  },
  {
   "cell_type": "code",
   "execution_count": null,
   "id": "stock-dividend",
   "metadata": {},
   "outputs": [],
   "source": []
  }
 ],
 "metadata": {
  "kernelspec": {
   "display_name": "AiiDA",
   "language": "python",
   "name": "aiida"
  },
  "language_info": {
   "codemirror_mode": {
    "name": "ipython",
    "version": 3
   },
   "file_extension": ".py",
   "mimetype": "text/x-python",
   "name": "python",
   "nbconvert_exporter": "python",
   "pygments_lexer": "ipython3",
   "version": "3.8.5"
  }
 },
 "nbformat": 4,
 "nbformat_minor": 5
}
